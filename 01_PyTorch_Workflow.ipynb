{
  "nbformat": 4,
  "nbformat_minor": 0,
  "metadata": {
    "colab": {
      "provenance": [],
      "authorship_tag": "ABX9TyOAvAWWEj37qo7Gb6VXJaus",
      "include_colab_link": true
    },
    "kernelspec": {
      "name": "python3",
      "display_name": "Python 3"
    },
    "language_info": {
      "name": "python"
    }
  },
  "cells": [
    {
      "cell_type": "markdown",
      "metadata": {
        "id": "view-in-github",
        "colab_type": "text"
      },
      "source": [
        "<a href=\"https://colab.research.google.com/github/M-Jahanzaib6062/PyTorch-Beginner-to-Advanced/blob/main/01_PyTorch_Workflow.ipynb\" target=\"_parent\"><img src=\"https://colab.research.google.com/assets/colab-badge.svg\" alt=\"Open In Colab\"/></a>"
      ]
    },
    {
      "cell_type": "markdown",
      "source": [
        "# **01_PyTorch_Workflow_Fundamentals**"
      ],
      "metadata": {
        "id": "qAxIV-99dgTh"
      }
    },
    {
      "cell_type": "markdown",
      "source": [
        "In this notebook we will cover a standard PyTorch Workflow. We will discuss several steps from getting data to saving the trained model.\n",
        "\n",
        "For the sake of simplicity, we will be considering a simple regression problem, a problem that can be solved using linear regression.\n",
        "\n",
        "The steps of workflow are as follows:\n",
        "* Getting data ready\n",
        "* Building a model\n",
        "* Fitting the model to data (training)\n",
        "* Making predictions on new data and model evaluation (inference)\n",
        "* Saving and loading the trained model"
      ],
      "metadata": {
        "id": "3p8wAh_397oX"
      }
    },
    {
      "cell_type": "markdown",
      "source": [
        "# **Import packages**"
      ],
      "metadata": {
        "id": "zKn4-IhDfARS"
      }
    },
    {
      "cell_type": "markdown",
      "source": [
        "Before going through the workflow, we must import the required packages."
      ],
      "metadata": {
        "id": "yq7jjlJ0fFGm"
      }
    },
    {
      "cell_type": "code",
      "source": [
        "import torch\n",
        "from torch import nn\n",
        "import matplotlib.pyplot as plt"
      ],
      "metadata": {
        "id": "w8BveuoEfQ4G"
      },
      "execution_count": null,
      "outputs": []
    },
    {
      "cell_type": "markdown",
      "source": [
        "\"nn\" stands for neural network, it a package in PyTorch Library that includes the building blocks for creating neural networks.\n",
        "\n",
        "While \"matplolib\" is for data visualization."
      ],
      "metadata": {
        "id": "S3T6V9ZyfXDE"
      }
    },
    {
      "cell_type": "markdown",
      "source": [
        "# Step 1: Data (Loading/Generating and Preprocessing)"
      ],
      "metadata": {
        "id": "bHib2JPyfpCp"
      }
    },
    {
      "cell_type": "markdown",
      "source": [
        "For simplicity and ease of understanding we will be considering simple linear data which can be predicted by a linear regression model by mapping a straight line on the data.\n",
        "\n",
        "Let's generate the data using the equation of straight line\n",
        "\n",
        "              Y = (m * X) + c\n",
        "\n",
        "Where \"m\" is the slope and \"c\" is the intercept."
      ],
      "metadata": {
        "id": "sk6-fvlnfyUS"
      }
    },
    {
      "cell_type": "markdown",
      "source": [
        "## Generate Data"
      ],
      "metadata": {
        "id": "QhddbC3OhZwH"
      }
    },
    {
      "cell_type": "code",
      "source": [
        "m = 0.7\n",
        "c = 0.3\n",
        "X = torch.arange(0, 1, 0.02).unsqueeze(dim = 1)\n",
        "print(X[:5])\n",
        "print(X.shape)\n",
        "Y = m * X + c\n",
        "print(Y[:5])"
      ],
      "metadata": {
        "colab": {
          "base_uri": "https://localhost:8080/"
        },
        "id": "np0q3XDbgeQy",
        "outputId": "7de37eea-1560-4ce4-a840-7beef78eee32"
      },
      "execution_count": null,
      "outputs": [
        {
          "output_type": "stream",
          "name": "stdout",
          "text": [
            "tensor([[0.0000],\n",
            "        [0.0200],\n",
            "        [0.0400],\n",
            "        [0.0600],\n",
            "        [0.0800]])\n",
            "torch.Size([50, 1])\n",
            "tensor([[0.3000],\n",
            "        [0.3140],\n",
            "        [0.3280],\n",
            "        [0.3420],\n",
            "        [0.3560]])\n"
          ]
        }
      ]
    },
    {
      "cell_type": "markdown",
      "source": [
        "## Split Data"
      ],
      "metadata": {
        "id": "tBoT8NcFhc6a"
      }
    },
    {
      "cell_type": "markdown",
      "source": [
        "Splitting the Data is very important in machine learning and deep learning.\n",
        "\n",
        "The Data in split into three sets:\n",
        "* Training Set\n",
        "* Validation Set\n",
        "* Testing Set\n",
        "\n",
        "The model is trained using the training set.\n",
        "The model in validated on the validation set during training for hyper-parameter tunning.\n",
        "And finally the test set is used to calculate the generalization performance.\n",
        "\n",
        "It is preferred to use Validation set but it is not a must. Everything can work just with training and test sets."
      ],
      "metadata": {
        "id": "QXmhELEjhV0F"
      }
    },
    {
      "cell_type": "code",
      "source": [
        "training_percent = 0.8 # 80% data for training, remaining for testing.\n",
        "train_index = int(training_percent * len(X))\n",
        "train_x = X[:train_index]\n",
        "train_y = Y[:train_index]\n",
        "test_x = X[train_index:]\n",
        "test_y = Y[train_index:]\n",
        "\n",
        "print(f'train_x shape is {train_x.shape}')\n",
        "print(f'test_x shape is {test_y.shape}')"
      ],
      "metadata": {
        "colab": {
          "base_uri": "https://localhost:8080/"
        },
        "id": "B4QmJ-6jigcx",
        "outputId": "7fffba9e-5288-4079-fea0-674491f19c3f"
      },
      "execution_count": null,
      "outputs": [
        {
          "output_type": "stream",
          "name": "stdout",
          "text": [
            "train_x shape is torch.Size([40, 1])\n",
            "test_x shape is torch.Size([10, 1])\n"
          ]
        }
      ]
    },
    {
      "cell_type": "markdown",
      "source": [
        "* 40 instances will be used for training.\n",
        "* 10 instances will be used ofr testing model performance."
      ],
      "metadata": {
        "id": "b_V6ighSi-aF"
      }
    },
    {
      "cell_type": "markdown",
      "source": [
        "## Data Visualization"
      ],
      "metadata": {
        "id": "NQBDI4PnjR95"
      }
    },
    {
      "cell_type": "code",
      "source": [
        "def PlotData(train_x, train_y, test_x, test_y, predictions = None):\n",
        "  plt.scatter(train_x, train_y, c = \"b\", s = 4, label = \"Training Instances\")\n",
        "  plt.scatter(test_x, test_y, c = \"r\", s = 4, label = \"Testing Instances\")\n",
        "  if predictions is not None:\n",
        "    plt.scatter(test_x, predictions, c = \"g\", s = 4, label = \"Predictions\")\n",
        "  plt.legend(prop = {'size':14})\n",
        "  plt.show()\n",
        "\n",
        "PlotData(train_x, train_y, test_x, test_y)"
      ],
      "metadata": {
        "colab": {
          "base_uri": "https://localhost:8080/",
          "height": 430
        },
        "id": "Y4UB0MxOjPNI",
        "outputId": "b5b5f37a-2a96-415c-d8c7-54869989db67"
      },
      "execution_count": null,
      "outputs": [
        {
          "output_type": "display_data",
          "data": {
            "text/plain": [
              "<Figure size 640x480 with 1 Axes>"
            ],
            "image/png": "[encoded data removed]"
          },
          "metadata": {}
        }
      ]
    },
    {
      "cell_type": "markdown",
      "source": [
        "# **Step 2: Build Model**"
      ],
      "metadata": {
        "id": "VzgobL9LkYh-"
      }
    },
    {
      "cell_type": "markdown",
      "source": [
        "Now we've got some data, let's build a model to use the blue dots to predict the red dots."
      ],
      "metadata": {
        "id": "Aq7xihX9jnkt"
      }
    },
    {
      "cell_type": "markdown",
      "source": [
        "## Model Class"
      ],
      "metadata": {
        "id": "_EaIJHaDmekP"
      }
    },
    {
      "cell_type": "markdown",
      "source": [
        "We will be using the term \"weight\" for slope and \"bias\" for the intercept.\n",
        "\n",
        "**Note:** We already know the values of actual weight and bias, which we used while generating the data. We are trying to build a linear regression model to see whether it can estimate those parameter values or not."
      ],
      "metadata": {
        "id": "JGZfF5EYnVSL"
      }
    },
    {
      "cell_type": "code",
      "source": [
        "class LinearModel(nn.Module):\n",
        "  def __init__(self):\n",
        "    super().__init__()\n",
        "    self.weight = nn.Parameter(torch.randn(1,\n",
        "                                dtype = torch.float),\n",
        "                                requires_grad = True)\n",
        "    self.bias = nn.Parameter(torch.randn(1,\n",
        "                             dtype = torch.float),\n",
        "                             requires_grad = True)\n",
        "  def forward(self, x : torch.Tensor) -> torch.Tensor:\n",
        "    return self.weight * x + self.bias"
      ],
      "metadata": {
        "id": "3z2Y7l_pmiJn"
      },
      "execution_count": null,
      "outputs": []
    },
    {
      "cell_type": "markdown",
      "source": [
        "## Checking contents of model"
      ],
      "metadata": {
        "id": "39Lwd95bn5fa"
      }
    },
    {
      "cell_type": "markdown",
      "source": [
        "First we will create an object of the model class (LinearModel), then use \".parameters()\" function to see what parameters it contains.\n",
        "\n",
        "We can also use the \"state_dict()\" method."
      ],
      "metadata": {
        "id": "OdGjSTQfn9_n"
      }
    },
    {
      "cell_type": "code",
      "source": [
        "torch.manual_seed(42)\n",
        "\n",
        "model = LinearModel()\n",
        "\n",
        "print(list(model.parameters()))"
      ],
      "metadata": {
        "colab": {
          "base_uri": "https://localhost:8080/"
        },
        "id": "aDH52IbHoSmI",
        "outputId": "639dda98-79e2-4cc6-a2d7-2a87cf2776da"
      },
      "execution_count": null,
      "outputs": [
        {
          "output_type": "stream",
          "name": "stdout",
          "text": [
            "[Parameter containing:\n",
            "tensor([0.3367], requires_grad=True), Parameter containing:\n",
            "tensor([0.1288], requires_grad=True)]\n"
          ]
        }
      ]
    },
    {
      "cell_type": "markdown",
      "source": [
        "So this shows the model has two parameters, weight = 0.7 and bias = 0.3.\n",
        "\n",
        "Both are randomly intialized."
      ],
      "metadata": {
        "id": "OcdJpCj1oogN"
      }
    },
    {
      "cell_type": "code",
      "source": [
        "model.state_dict()"
      ],
      "metadata": {
        "colab": {
          "base_uri": "https://localhost:8080/"
        },
        "id": "61ePDUUGoxMV",
        "outputId": "9572d7a7-b864-41f3-a644-a900b4a1f8a7"
      },
      "execution_count": null,
      "outputs": [
        {
          "output_type": "execute_result",
          "data": {
            "text/plain": [
              "OrderedDict([('weight', tensor([0.3367])), ('bias', tensor([0.1288]))])"
            ]
          },
          "metadata": {},
          "execution_count": 106
        }
      ]
    },
    {
      "cell_type": "markdown",
      "source": [
        "## Making Predictions"
      ],
      "metadata": {
        "id": "61kfm8STo3yp"
      }
    },
    {
      "cell_type": "code",
      "source": [
        "with torch.inference_mode():\n",
        "  pred = model(test_x)"
      ],
      "metadata": {
        "id": "vnymn1cSo75W"
      },
      "execution_count": null,
      "outputs": []
    },
    {
      "cell_type": "markdown",
      "source": [
        "**Note:** In older PyTorch code, you may also see \"torch.no_grad()\" being used for inference. While \"torch.inference_mode()\" and \"torch.no_grad()\" do similar things, \"torch.inference_mode()\" is newer, potentially faster and preferred."
      ],
      "metadata": {
        "id": "HNw2zOWrgLTB"
      }
    },
    {
      "cell_type": "code",
      "source": [
        "print(f'Predicted value: \\n{pred}')"
      ],
      "metadata": {
        "colab": {
          "base_uri": "https://localhost:8080/"
        },
        "id": "EFgmyc-sfjg-",
        "outputId": "63d883d8-cfde-4e7a-ae38-1dcef4aea885"
      },
      "execution_count": null,
      "outputs": [
        {
          "output_type": "stream",
          "name": "stdout",
          "text": [
            "Predicted value: \n",
            "tensor([[0.3982],\n",
            "        [0.4049],\n",
            "        [0.4116],\n",
            "        [0.4184],\n",
            "        [0.4251],\n",
            "        [0.4318],\n",
            "        [0.4386],\n",
            "        [0.4453],\n",
            "        [0.4520],\n",
            "        [0.4588]])\n"
          ]
        }
      ]
    },
    {
      "cell_type": "code",
      "source": [
        "PlotData(train_x, train_y, test_x, test_y, pred)"
      ],
      "metadata": {
        "colab": {
          "base_uri": "https://localhost:8080/",
          "height": 430
        },
        "id": "GVYMMQL7gl9O",
        "outputId": "cf5906bc-afbb-47fc-c12b-8df0266d980d"
      },
      "execution_count": null,
      "outputs": [
        {
          "output_type": "display_data",
          "data": {
            "text/plain": [
              "<Figure size 640x480 with 1 Axes>"
            ],
            "image/png": "[encoded data removed]"
          },
          "metadata": {}
        }
      ]
    },
    {
      "cell_type": "markdown",
      "source": [
        "The predictions look pretty far away.\n",
        "\n",
        "This is because we haven't trained the model."
      ],
      "metadata": {
        "id": "ic6bcPofhBOs"
      }
    },
    {
      "cell_type": "markdown",
      "source": [
        "# **Step 3: Train Model**"
      ],
      "metadata": {
        "id": "weGg1PyehMKz"
      }
    },
    {
      "cell_type": "markdown",
      "source": [
        "In training, the optimization algorithm tries to find parameters values that make model predictions closer to the actual values."
      ],
      "metadata": {
        "id": "XlNr3EnLhktl"
      }
    },
    {
      "cell_type": "markdown",
      "source": [
        "## Loss function and Optimizer"
      ],
      "metadata": {
        "id": "LgCuOHKqhxVh"
      }
    },
    {
      "cell_type": "markdown",
      "source": [
        "**Loss function**: It measures how close the predicted values are from the actual values (labels).\n",
        "\n",
        "The closer the values are the better.\n",
        "\n",
        "**Optimizer**: It tries to update model parameters so as it decrease the loss.\n",
        "\n",
        "Depending on what kind of problem you're working on will depend on what loss function and what optimizer you use.\n",
        "\n",
        "For our problem, since we are predicting a single continuous number, we will be using the MAE (Mean Absolute Error) Loss function and SGD (Stochastic Gradient Descent) optimizer.\n",
        "\n",
        "\n",
        "In PyTorch, MAE is implemented as \"L1Loss()\" and can be accessses as \"torch.nn.L1Loss()\".\n",
        "\n",
        "The Optimizer in present in the \"torch.optim\" module, \"torch.optim.SGD()\"."
      ],
      "metadata": {
        "id": "FX8UgLOCjFyt"
      }
    },
    {
      "cell_type": "code",
      "source": [
        "loss_func = torch.nn.L1Loss()\n",
        "optimizer = torch.optim.SGD(params = model.parameters(), lr = 0.01)"
      ],
      "metadata": {
        "id": "atmpC_5dhRQi"
      },
      "execution_count": null,
      "outputs": []
    },
    {
      "cell_type": "markdown",
      "source": [
        "## Training Loop"
      ],
      "metadata": {
        "id": "u-IV0wHMkn2C"
      }
    },
    {
      "cell_type": "code",
      "source": [
        "torch.manual_seed(42)\n",
        "epochs = 150\n",
        "train_losses = []\n",
        "test_losses = []\n",
        "epoch_count = []\n",
        "\n",
        "for epoch in range(epochs):\n",
        "\n",
        "  model.train() # Set model in Training model\n",
        "  train_pred = model(train_x)\n",
        "  train_loss = loss_func(train_pred, train_y)\n",
        "  optimizer.zero_grad()\n",
        "  train_loss.backward()\n",
        "  optimizer.step()\n",
        "\n",
        "  model.eval() # Set model in Evaluation mode\n",
        "  with torch.inference_mode():\n",
        "    test_pred = model(test_x)\n",
        "    test_loss = loss_func(test_pred, test_y)\n",
        "    if epoch % 10 == 0:\n",
        "      epoch_count.append(epoch)\n",
        "      train_losses.append(train_loss.detach().numpy())\n",
        "      test_losses.append(test_loss.detach().numpy())\n",
        "      print(f'Epoch: {epoch}\\tTraining Loss: {train_loss}\\tTesting Loss: {test_loss}')"
      ],
      "metadata": {
        "colab": {
          "base_uri": "https://localhost:8080/"
        },
        "id": "gJMA1Nb_klWe",
        "outputId": "d72e8edb-cbd1-4c4d-f9ba-d398e5a0f561"
      },
      "execution_count": null,
      "outputs": [
        {
          "output_type": "stream",
          "name": "stdout",
          "text": [
            "Epoch: 0\tTraining Loss: 0.31288138031959534\tTesting Loss: 0.48106518387794495\n",
            "Epoch: 10\tTraining Loss: 0.1976713240146637\tTesting Loss: 0.3463551998138428\n",
            "Epoch: 20\tTraining Loss: 0.08908725529909134\tTesting Loss: 0.21729660034179688\n",
            "Epoch: 30\tTraining Loss: 0.053148526698350906\tTesting Loss: 0.14464017748832703\n",
            "Epoch: 40\tTraining Loss: 0.04543796554207802\tTesting Loss: 0.11360953003168106\n",
            "Epoch: 50\tTraining Loss: 0.04167863354086876\tTesting Loss: 0.09919948130846024\n",
            "Epoch: 60\tTraining Loss: 0.03818932920694351\tTesting Loss: 0.08886633068323135\n",
            "Epoch: 70\tTraining Loss: 0.03476089984178543\tTesting Loss: 0.0805937647819519\n",
            "Epoch: 80\tTraining Loss: 0.03132382780313492\tTesting Loss: 0.07232122868299484\n",
            "Epoch: 90\tTraining Loss: 0.02788739837706089\tTesting Loss: 0.06473556160926819\n",
            "Epoch: 100\tTraining Loss: 0.024458957836031914\tTesting Loss: 0.05646304413676262\n",
            "Epoch: 110\tTraining Loss: 0.021020207554101944\tTesting Loss: 0.04819049686193466\n",
            "Epoch: 120\tTraining Loss: 0.01758546568453312\tTesting Loss: 0.04060482233762741\n",
            "Epoch: 130\tTraining Loss: 0.014155393466353416\tTesting Loss: 0.03233227878808975\n",
            "Epoch: 140\tTraining Loss: 0.010716589167714119\tTesting Loss: 0.024059748277068138\n"
          ]
        }
      ]
    },
    {
      "cell_type": "code",
      "source": [
        "plt.plot(epoch_count, train_losses)\n",
        "plt.plot(epoch_count, test_losses)\n",
        "plt.title(\"Train and Test Losses Trend\")\n",
        "plt.ylabel(\"Loss\")\n",
        "plt.xlabel(\"Epoch\")\n",
        "plt.legend()\n"
      ],
      "metadata": {
        "colab": {
          "base_uri": "https://localhost:8080/",
          "height": 546
        },
        "id": "xIAXEKkto311",
        "outputId": "f22d51e4-3857-43e9-c59a-5a703448ced9"
      },
      "execution_count": null,
      "outputs": [
        {
          "output_type": "stream",
          "name": "stderr",
          "text": [
            "/tmp/ipython-input-112-901586675.py:6: UserWarning: No artists with labels found to put in legend.  Note that artists whose label start with an underscore are ignored when legend() is called with no argument.\n",
            "  plt.legend()\n"
          ]
        },
        {
          "output_type": "execute_result",
          "data": {
            "text/plain": [
              "<matplotlib.legend.Legend at 0x7dfcda8d5b50>"
            ]
          },
          "metadata": {},
          "execution_count": 112
        },
        {
          "output_type": "display_data",
          "data": {
            "text/plain": [
              "<Figure size 640x480 with 1 Axes>"
            ],
            "image/png": "[encoded data removed]"
          },
          "metadata": {}
        }
      ]
    },
    {
      "cell_type": "markdown",
      "source": [
        "Let's see how close the model parameter values are to the actual values after training."
      ],
      "metadata": {
        "id": "_vBiwJHjq0-v"
      }
    },
    {
      "cell_type": "code",
      "source": [
        "model.state_dict()"
      ],
      "metadata": {
        "colab": {
          "base_uri": "https://localhost:8080/"
        },
        "id": "e0v2jSxPq9WA",
        "outputId": "9ee151f2-26e8-4adf-e4d0-590fc0e5b539"
      },
      "execution_count": null,
      "outputs": [
        {
          "output_type": "execute_result",
          "data": {
            "text/plain": [
              "OrderedDict([('weight', tensor([0.6638])), ('bias', tensor([0.3153]))])"
            ]
          },
          "metadata": {},
          "execution_count": 113
        }
      ]
    },
    {
      "cell_type": "markdown",
      "source": [
        "They are quite close to the actual values, weight = 0.7 and bias = 0.3."
      ],
      "metadata": {
        "id": "aznk0Vpara28"
      }
    },
    {
      "cell_type": "markdown",
      "source": [
        "# **Step 4: Inference**"
      ],
      "metadata": {
        "id": "rzm5BwWlr_EP"
      }
    },
    {
      "cell_type": "code",
      "source": [
        "model.eval()\n",
        "with torch.inference_mode():\n",
        "  y_pred = model(test_x)\n",
        "print(y_pred)"
      ],
      "metadata": {
        "colab": {
          "base_uri": "https://localhost:8080/"
        },
        "id": "nlroAhBisFur",
        "outputId": "b90660c1-e5a0-4b30-dce6-139bd31fc02a"
      },
      "execution_count": null,
      "outputs": [
        {
          "output_type": "stream",
          "name": "stdout",
          "text": [
            "tensor([[0.8464],\n",
            "        [0.8596],\n",
            "        [0.8729],\n",
            "        [0.8862],\n",
            "        [0.8995],\n",
            "        [0.9127],\n",
            "        [0.9260],\n",
            "        [0.9393],\n",
            "        [0.9526],\n",
            "        [0.9659]])\n"
          ]
        }
      ]
    },
    {
      "cell_type": "code",
      "source": [
        "PlotData(train_x, train_y, test_x, test_y, y_pred)"
      ],
      "metadata": {
        "colab": {
          "base_uri": "https://localhost:8080/",
          "height": 430
        },
        "id": "Pzm5FiiVtBZP",
        "outputId": "3d3c2c9f-3350-48f6-90a1-fe64d8c2d120"
      },
      "execution_count": null,
      "outputs": [
        {
          "output_type": "display_data",
          "data": {
            "text/plain": [
              "<Figure size 640x480 with 1 Axes>"
            ],
            "image/png": "[encoded data removed]"
          },
          "metadata": {}
        }
      ]
    },
    {
      "cell_type": "markdown",
      "source": [
        "# **Step 5: Saving and Loading a PyTorch model**"
      ],
      "metadata": {
        "id": "rRVBSG-ItVB_"
      }
    },
    {
      "cell_type": "markdown",
      "source": [
        "For saving and loading models in PyTorch, there are three main methods we should be aware of, they are:\n",
        "* torch.save()\n",
        "* torch.load()\n",
        "* torch.nn.Module.load_state_dict()"
      ],
      "metadata": {
        "id": "xGaAlQ3CtcXM"
      }
    },
    {
      "cell_type": "markdown",
      "source": [
        "## Saving a PyTorch Model's state_dict()"
      ],
      "metadata": {
        "id": "ievuDjS_wyIm"
      }
    },
    {
      "cell_type": "markdown",
      "source": [
        "We will be using the \"pathlib\" module of python to create a folder to contain all our models."
      ],
      "metadata": {
        "id": "MxIexZkbxlX6"
      }
    },
    {
      "cell_type": "code",
      "source": [
        "from pathlib import Path\n",
        "\n",
        "model_path = Path(\"Models\")\n",
        "model_path.mkdir(parents = True, exist_ok = True)\n",
        "\n",
        "model_file_name = \"01_pytorch_workflow_model_0.pth\"\n",
        "destination_path = model_path / model_file_name\n",
        "\n",
        "torch.save(obj = model.state_dict(), f = destination_path)"
      ],
      "metadata": {
        "id": "5LR6SGWdwxQo"
      },
      "execution_count": null,
      "outputs": []
    },
    {
      "cell_type": "markdown",
      "source": [
        "## Loading a saved PyTorch model's state_dict()"
      ],
      "metadata": {
        "id": "R-FgjPpXyR1v"
      }
    },
    {
      "cell_type": "code",
      "source": [
        "model1 = LinearModel()\n",
        "model1.load_state_dict(torch.load('/content/Models/01_pytorch_workflow_model_0.pth'))"
      ],
      "metadata": {
        "colab": {
          "base_uri": "https://localhost:8080/"
        },
        "id": "yBARBoIGyXm9",
        "outputId": "7ec87e0c-bb76-4047-bdc2-175faf3953b3"
      },
      "execution_count": null,
      "outputs": [
        {
          "output_type": "execute_result",
          "data": {
            "text/plain": [
              "<All keys matched successfully>"
            ]
          },
          "metadata": {},
          "execution_count": 117
        }
      ]
    },
    {
      "cell_type": "code",
      "source": [
        "model1.state_dict()"
      ],
      "metadata": {
        "colab": {
          "base_uri": "https://localhost:8080/"
        },
        "id": "bgrNvqBtzDY-",
        "outputId": "984c3744-142e-4f02-ce4b-6018ec29e446"
      },
      "execution_count": null,
      "outputs": [
        {
          "output_type": "execute_result",
          "data": {
            "text/plain": [
              "OrderedDict([('weight', tensor([0.6638])), ('bias', tensor([0.3153]))])"
            ]
          },
          "metadata": {},
          "execution_count": 118
        }
      ]
    },
    {
      "cell_type": "code",
      "source": [
        "model1.eval()\n",
        "with torch.inference_mode():\n",
        "  loaded_model_pred = model1(test_x)\n",
        "print(loaded_model_pred)\n"
      ],
      "metadata": {
        "colab": {
          "base_uri": "https://localhost:8080/"
        },
        "id": "uubk2NWuzMm-",
        "outputId": "1afbf911-6dc0-4392-fb81-792e84b432ae"
      },
      "execution_count": null,
      "outputs": [
        {
          "output_type": "stream",
          "name": "stdout",
          "text": [
            "tensor([[0.8464],\n",
            "        [0.8596],\n",
            "        [0.8729],\n",
            "        [0.8862],\n",
            "        [0.8995],\n",
            "        [0.9127],\n",
            "        [0.9260],\n",
            "        [0.9393],\n",
            "        [0.9526],\n",
            "        [0.9659]])\n"
          ]
        }
      ]
    },
    {
      "cell_type": "code",
      "source": [
        "y_pred == loaded_model_pred"
      ],
      "metadata": {
        "colab": {
          "base_uri": "https://localhost:8080/"
        },
        "id": "WK6SrF2bzdMr",
        "outputId": "d064567a-7f4e-49ad-8385-f78a171c1193"
      },
      "execution_count": null,
      "outputs": [
        {
          "output_type": "execute_result",
          "data": {
            "text/plain": [
              "tensor([[True],\n",
              "        [True],\n",
              "        [True],\n",
              "        [True],\n",
              "        [True],\n",
              "        [True],\n",
              "        [True],\n",
              "        [True],\n",
              "        [True],\n",
              "        [True]])"
            ]
          },
          "metadata": {},
          "execution_count": 120
        }
      ]
    },
    {
      "cell_type": "markdown",
      "source": [
        "It looks like the loaded model predictions are the same as the previous model predictions (predictions made prior to saving). This indicates our model is saving and loading as expected."
      ],
      "metadata": {
        "id": "IZRNpzjQzoL9"
      }
    },
    {
      "cell_type": "code",
      "source": [],
      "metadata": {
        "id": "Pu_Cz7oIzqFW"
      },
      "execution_count": null,
      "outputs": []
    }
  ]
}